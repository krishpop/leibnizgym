{
 "cells": [
  {
   "cell_type": "code",
   "execution_count": 3,
   "id": "8e9fd0eb-6608-4679-a033-33b85cf35d70",
   "metadata": {
    "tags": []
   },
   "outputs": [
    {
     "name": "stdout",
     "output_type": "stream",
     "text": [
      "Importing module 'gym_38' (/scr-ssd/ksrini/Downloads/isaacgym/python/isaacgym/_bindings/linux-x86_64/gym_38.so)\n",
      "Setting GYM_USD_PLUG_INFO_PATH to /scr-ssd/ksrini/Downloads/isaacgym/python/isaacgym/_bindings/linux-x86_64/usd/plugInfo.json\n",
      "PyTorch version 1.10.0+cu102\n",
      "Device count 1\n",
      "/scr-ssd/ksrini/Downloads/isaacgym/python/isaacgym/_bindings/src/gymtorch\n",
      "Using /afs/cs.stanford.edu/u/ksrini/.cache/torch_extensions/py38_cu102 as PyTorch extensions root...\n",
      "Emitting ninja build file /afs/cs.stanford.edu/u/ksrini/.cache/torch_extensions/py38_cu102/gymtorch/build.ninja...\n",
      "Building extension module gymtorch...\n",
      "Allowing ninja to set a default number of workers... (overridable by setting the environment variable MAX_JOBS=N)\n",
      "ninja: no work to do.\n",
      "Loading extension module gymtorch...\n",
      "WARNING - pyDR not installed. Domain Randomization functionality will not be available.\n"
     ]
    }
   ],
   "source": [
    "from leibnizgym.envs.trifinger import TrifingerEnv\n",
    "from isaacgym import gymtorch\n",
    "from isaacgym.torch_utils import *\n",
    "from leibnizgym.utils import fop, torch_utils\n",
    "import torch"
   ]
  },
  {
   "cell_type": "code",
   "execution_count": 4,
   "id": "527ea739-a6d0-4755-bdd1-2124ca4d6a3b",
   "metadata": {
    "collapsed": true,
    "jupyter": {
     "outputs_hidden": true
    },
    "tags": []
   },
   "outputs": [
    {
     "name": "stdout",
     "output_type": "stream",
     "text": [
      "[INFO] [2021.11.18::03-13-16]: [env_base]: Observations: 41\u001b[0m\n",
      "    robot_q: 9\n",
      "    robot_u: 9\n",
      "    object_q: 7\n",
      "    object_q_des: 7\n",
      "    command: 9\n",
      "[INFO] [2021.11.18::03-13-16]: [env_base]: States: 113\u001b[0m\n",
      "    robot_q: 9\n",
      "    robot_u: 9\n",
      "    object_q: 7\n",
      "    object_q_des: 7\n",
      "    command: 9\n",
      "    object_u: 6\n",
      "    fingertip_state: 39\n",
      "    robot_a: 9\n",
      "    fingertip_wrench: 18\n",
      "[INFO] [2021.11.18::03-13-16]: [env_base]: Action: 9\u001b[0m\n",
      "    command: 9\n",
      "--------------------\n",
      "[INFO] [2021.11.18::03-13-16]: [env_base]: Simulation physics parameters: \n",
      "<isaacgym._bindings.linux-x86_64.gym_38.SimParams object at 0x7ff83204ddf0>\u001b[0m\n",
      "Not connected to PVD\n",
      "+++ Using GPU PhysX\n",
      "Physics Engine: PhysX\n",
      "Physics Device: cuda:0\n",
      "GPU Pipeline: enabled\n",
      "[INFO] [2021.11.18::03-13-20]: [trifinger_env]: Trifinger Robot Asset: \u001b[0m\n",
      "\t Number of bodies: 17\n",
      "\t Number of shapes: 15\n",
      "\t Number of dofs: 9\n",
      "\t Number of actuated dofs: 9\n",
      "[INFO] [2021.11.18::03-13-20]: [trifinger_env]: Trifinger Stage Asset: \u001b[0m\n",
      "\t Number of bodies: 1\n",
      "\t Number of shapes: 40\n",
      "[INFO] [2021.11.18::03-13-20]: [trifinger_env]: Reward terms: \u001b[0m\n",
      "\t Reward name: finger_reach_object_rate, enable: True, weight: -750\n",
      "\t Reward name: finger_move_penalty, enable: True, weight: -0.1\n",
      "\t Reward name: object_dist, enable: True, weight: 2000\n",
      "\t Reward name: object_rot, enable: True, weight: 300\n",
      "\t Reward name: object_rot_delta, enable: True, weight: -250\n",
      "\t Reward name: object_move, enable: True, weight: -750\n"
     ]
    }
   ],
   "source": [
    "env_config = dict(num_instances=2,\n",
    "     aggregate_mode=False,\n",
    "     control_decimation=True,\n",
    "     command_mode=\"fingertip_pos_torque\",\n",
    "     sim=dict(use_gpu_pipeline=True, physx=dict(use_gpu=True)))\n",
    "env = TrifingerEnv(config=env_config, device='cuda:0', verbose=False, visualize=False)"
   ]
  },
  {
   "cell_type": "code",
   "execution_count": 5,
   "id": "c815ab7b-ad9c-44a9-aef9-7bb129359726",
   "metadata": {},
   "outputs": [],
   "source": [
    "env._lmbda = 0.05\n",
    "obs = env.reset()\n",
    "ftip_dirs = []\n",
    "last_dist = 1\n",
    "larger_dist_ct = 0\n",
    "for i in range(150):\n",
    "    cp_params = to_torch([[0,1.,0],[1.,0,0],[-1.,0,0]]) * 0.0335\n",
    "    q, t = env._object_state_history[0][:, 3:7], env._object_state_history[0][:, :3]\n",
    "    q = q.view((2, 1, 4)).tile(1, 3, 1).view(-1, 4)\n",
    "    t = t.view((2, 1, 3)).tile(1, 3, 1).view(-1, 3)\n",
    "    cp_wf = tf_apply(q, cp_params.repeat(2, 1), t).reshape(2, 3, 3)\n",
    "    ftip_pos = env._fingertips_frames_state_history[0][:, :, :3]\n",
    "    ftip_dir = cp_wf - ftip_pos\n",
    "    ftip_dir = ftip_dir.view(2, 9)\n",
    "    ftip_dist = torch.norm(ftip_dir, dim=1).sum() / 2\n",
    "    ftip_dirs.append(ftip_dist)\n",
    "    # check if dist is getting smaller\n",
    "    if ftip_dist > last_dist:\n",
    "        larger_dist_ct += 1\n",
    "    elif larger_dist_ct < 3:\n",
    "        larger_dist_ct = 0\n",
    "    last_dist = min(ftip_dirs)\n",
    "    # set action for next step to either current ftip_pos, goal, or clipped pos offset\n",
    "    if larger_dist_ct > 3:\n",
    "        if 'offset' in env.config['command_mode']:\n",
    "            ac = ftip_pos.reshape(2, 9) * 0.\n",
    "        else:\n",
    "            ac = ftip_pos.reshape(2, 9)  # no change from last \n",
    "    elif 'offset' not in env.config['command_mode']:\n",
    "        ac = cp_wf.view(2, 9)\n",
    "    else:\n",
    "        ac = torch_utils.saturate(ftip_dir, env._action_scale.low, \n",
    "                                  env._action_scale.high)\n",
    "    # scale transform action\n",
    "    if env.config['normalize_action']:\n",
    "        ac = torch_utils.scale_transform(ac, env._action_scale.low, \n",
    "                                         env._action_scale.high)\n",
    "    if torch.norm(ftip_dir) < 0.1:\n",
    "        break\n",
    "    obs, r, d, i = env.step(ac)"
   ]
  },
  {
   "cell_type": "code",
   "execution_count": 6,
   "id": "8b1ff43f-e6df-4104-9142-c0d3e50c917a",
   "metadata": {},
   "outputs": [
    {
     "data": {
      "text/plain": [
       "[<matplotlib.lines.Line2D at 0x7ff86a970fa0>]"
      ]
     },
     "execution_count": 6,
     "metadata": {},
     "output_type": "execute_result"
    },
    {
     "data": {
      "image/png": "[encoded data removed]",
      "text/plain": [
       "<Figure size 432x288 with 1 Axes>"
      ]
     },
     "metadata": {
      "needs_background": "light"
     },
     "output_type": "display_data"
    }
   ],
   "source": [
    "%matplotlib inline\n",
    "import matplotlib.pyplot as plt\n",
    "\n",
    "plt.plot([x.detach().cpu().numpy() for x in ftip_dirs])"
   ]
  },
  {
   "cell_type": "code",
   "execution_count": 11,
   "id": "843558a5-a984-4c7e-8b5e-a65d1235c876",
   "metadata": {},
   "outputs": [],
   "source": [
    "cp_params = to_torch([[0,1.,0],[1.,0,0],[-1.,0,0]])\n",
    "q, t = env._object_state_history[0][:, 3:7], env._object_state_history[0][:, :3]\n",
    "q = q.view((2, 1, 4)).tile(1, 3, 1).view(-1, 4)\n",
    "t = t.view((2, 1, 3)).tile(1, 3, 1).view(-1, 3)\n",
    "cp_wf = tf_apply(q, cp_params.repeat(2, 1), t).reshape(2, 3, 3)\n",
    "ac = cp_wf.view(2, 9)\n",
    "ftip_pos = env._fingertips_frames_state_history[0][:, :, :3]\n",
    "ftip_dir = cp_wf - ftip_pos\n",
    "ftip_dirs.append(ftip_dir)\n",
    "obs, r, d, i = env.step(ac)\n",
    "# ftip_dir = ftip_dir.view(2, 9)\n",
    "# ac = torch_utils.saturate(ftip_dir, env._action_scale.low, \n",
    "#                           env._action_scale.high)\n",
    "# if env.config['normalize_action']:\n",
    "#     ac = torch_utils.scale_transform(ac, env._action_scale.low, \n",
    "#                                      env._action_scale.high)\n",
    "\n",
    "# ac"
   ]
  },
  {
   "cell_type": "code",
   "execution_count": 69,
   "id": "8328ffc2-79fc-4540-8406-2807b74520d0",
   "metadata": {},
   "outputs": [
    {
     "data": {
      "text/plain": [
       "True"
      ]
     },
     "execution_count": 69,
     "metadata": {},
     "output_type": "execute_result"
    }
   ],
   "source": [
    "env.config['asymmetric_obs']"
   ]
  },
  {
   "cell_type": "code",
   "execution_count": 65,
   "id": "b455a383-8ef6-48e5-af59-6bc8eac6d8c6",
   "metadata": {},
   "outputs": [
    {
     "data": {
      "text/plain": [
       "tensor([[ 0.0420,  9.3683, -0.6246, 10.7841,  0.9688, -0.6246, -8.2010, -0.4741,\n",
       "         -0.6246],\n",
       "        [-1.7513,  9.0308, -0.6346,  9.0005,  0.6372, -0.6845, -9.9943, -0.8116,\n",
       "         -0.6346]], device='cuda:0')"
      ]
     },
     "execution_count": 65,
     "metadata": {},
     "output_type": "execute_result"
    }
   ],
   "source": [
    "torch_utils.scale_transform(ftip_dir, env._action_scale.low, env._action_scale.high)"
   ]
  },
  {
   "cell_type": "code",
   "execution_count": 50,
   "id": "f5f9f0cb-3930-480e-aef1-5563c66497f3",
   "metadata": {},
   "outputs": [
    {
     "ename": "ValueError",
     "evalue": "Invalid shape for tensor `action`. Input: (2, 3, 3) != (2, 9).",
     "output_type": "error",
     "traceback": [
      "\u001b[0;31m---------------------------------------------------------------------------\u001b[0m",
      "\u001b[0;31mValueError\u001b[0m                                Traceback (most recent call last)",
      "\u001b[0;32m/tmp/user/18784/ipykernel_73117/1325678600.py\u001b[0m in \u001b[0;36m<module>\u001b[0;34m\u001b[0m\n\u001b[0;32m----> 1\u001b[0;31m \u001b[0menv\u001b[0m\u001b[0;34m.\u001b[0m\u001b[0mstep\u001b[0m\u001b[0;34m(\u001b[0m\u001b[0mftip_dir\u001b[0m\u001b[0;34m)\u001b[0m\u001b[0;34m\u001b[0m\u001b[0;34m\u001b[0m\u001b[0m\n\u001b[0m",
      "\u001b[0;32m/scr-ssd/ksrini/leibnizgym/leibnizgym/envs/env_base.py\u001b[0m in \u001b[0;36mstep\u001b[0;34m(self, action)\u001b[0m\n\u001b[1;32m    378\u001b[0m         \u001b[0;32mif\u001b[0m \u001b[0mtuple\u001b[0m\u001b[0;34m(\u001b[0m\u001b[0maction\u001b[0m\u001b[0;34m.\u001b[0m\u001b[0msize\u001b[0m\u001b[0;34m(\u001b[0m\u001b[0;34m)\u001b[0m\u001b[0;34m)\u001b[0m \u001b[0;34m!=\u001b[0m \u001b[0maction_shape\u001b[0m\u001b[0;34m:\u001b[0m\u001b[0;34m\u001b[0m\u001b[0;34m\u001b[0m\u001b[0m\n\u001b[1;32m    379\u001b[0m             \u001b[0mmsg\u001b[0m \u001b[0;34m=\u001b[0m \u001b[0;34mf\"Invalid shape for tensor `action`. Input: {tuple(action.size())} != {action_shape}.\"\u001b[0m\u001b[0;34m\u001b[0m\u001b[0;34m\u001b[0m\u001b[0m\n\u001b[0;32m--> 380\u001b[0;31m             \u001b[0;32mraise\u001b[0m \u001b[0mValueError\u001b[0m\u001b[0;34m(\u001b[0m\u001b[0mmsg\u001b[0m\u001b[0;34m)\u001b[0m\u001b[0;34m\u001b[0m\u001b[0;34m\u001b[0m\u001b[0m\n\u001b[0m\u001b[1;32m    381\u001b[0m         \u001b[0;31m# copy input action command into buffer\u001b[0m\u001b[0;34m\u001b[0m\u001b[0;34m\u001b[0m\u001b[0;34m\u001b[0m\u001b[0m\n\u001b[1;32m    382\u001b[0m         \u001b[0mself\u001b[0m\u001b[0;34m.\u001b[0m\u001b[0m_action_buf\u001b[0m \u001b[0;34m=\u001b[0m \u001b[0maction\u001b[0m\u001b[0;34m.\u001b[0m\u001b[0mclone\u001b[0m\u001b[0;34m(\u001b[0m\u001b[0;34m)\u001b[0m\u001b[0;34m.\u001b[0m\u001b[0mto\u001b[0m\u001b[0;34m(\u001b[0m\u001b[0mself\u001b[0m\u001b[0;34m.\u001b[0m\u001b[0mdevice\u001b[0m\u001b[0;34m)\u001b[0m\u001b[0;34m\u001b[0m\u001b[0;34m\u001b[0m\u001b[0m\n",
      "\u001b[0;31mValueError\u001b[0m: Invalid shape for tensor `action`. Input: (2, 3, 3) != (2, 9)."
     ]
    }
   ],
   "source": [
    "env.step(ftip_dir.reshape(2, 9))"
   ]
  },
  {
   "cell_type": "code",
   "execution_count": 4,
   "id": "0b195d2d-df9f-4272-ba2e-75da7e2c2938",
   "metadata": {},
   "outputs": [],
   "source": [
    "prob = fop.BatchForceOptProblem()\n",
    "obs = env.reset()\n",
    "cp_list = env._fingertips_frames_state_history[0][:,:,:7]\n",
    "G = prob.get_grasp_matrix(cp_list)"
   ]
  },
  {
   "cell_type": "code",
   "execution_count": null,
   "id": "906d83fa-dabd-4cee-8b25-dbd2caaf0613",
   "metadata": {},
   "outputs": [
    {
     "name": "stderr",
     "output_type": "stream",
     "text": [
      "/scr1/.pyenv/versions/rlgpu/lib/python3.8/site-packages/diffcp/cone_program.py:282: UserWarning: Solved/Inaccurate.\n",
      "  warnings.warn(\"Solved/Inaccurate.\")\n"
     ]
    },
    {
     "data": {
      "text/plain": [
       "tensor([[  5.5309,   5.5309,  -1.1009,   6.1563,   4.2820,   6.1563,   6.6669,\n",
       "           4.1566,  -4.6922],\n",
       "        [ 32.0668,  31.7971,  14.1736,  30.0242,  29.7944, -26.1325,  32.7149,\n",
       "          32.4041,   6.8525]], device='cuda:0')"
      ]
     },
     "execution_count": 12,
     "metadata": {},
     "output_type": "execute_result"
    }
   ],
   "source": [
    "W = torch.randn((2, 6), device=env.device, dtype=torch.float)\n",
    "prob(W, cp_list)"
   ]
  },
  {
   "cell_type": "code",
   "execution_count": null,
   "id": "4ae65b35-ebdd-4058-8603-dfebd621e63a",
   "metadata": {},
   "outputs": [],
   "source": [
    "def _get_grasp_matrix_single_cp(cp_wf):\n",
    "    P = prob._get_P_matrix(cp_wf[:, :3])  # n x 6 x 6\n",
    "    quat_c_2_w = cp_wf[:, 3:]\n",
    "\n",
    "    # Orientation of cp frame w.r.t. world frame\n",
    "    # quat_c_2_w = quat_o_2_w * quat_c_2_o\n",
    "    # R is rotation matrix from contact frame i to world frame\n",
    "    R = fop.euler_angles_to_matrix(torch.stack(get_euler_xyz(quat_c_2_w), dim=-1))\n",
    "    _R0 = torch.zeros_like(R)  # n x 3 x 3\n",
    "    R_bar = torch.cat((torch.cat([R, _R0], dim=-1),  # concat columns\n",
    "                       torch.cat([_R0, R], dim=-1)), dim=-2)  # then rows \n",
    "    G = torch.bmm(P, R_bar)  # n x 6 x 6\n",
    "    return G.transpose(1, 2)\n",
    "\n",
    "\n",
    "GT_list = []\n",
    "n = len(cp_list)\n",
    "H = fop._get_H_matrix().unsqueeze(0).tile((n, 1, 1))  # n x 9 x 18\n",
    "\n",
    "for i in range(3):\n",
    "    cp_wf = cp_list[:, i]\n",
    "    GT_i = _get_grasp_matrix_single_cp(cp_wf)\n",
    "    GT_list.append(GT_i)\n",
    "GT_full = torch.cat(GT_list, dim=1)  # n x 18 x 6\n",
    "GT = torch.bmm(H, GT_full)  # n x 9 x 6"
   ]
  },
  {
   "cell_type": "code",
   "execution_count": null,
   "id": "bd32d154-6155-4b7c-b99b-8db816ae8e37",
   "metadata": {},
   "outputs": [],
   "source": [
    "def compute_torque(ftip_force):\n",
    "    env._gym.refresh_jacobian_tensors(env._sim)\n",
    "    torque = 0\n",
    "    for fid, frame_id in enumerate(env._fingertips_handles.values()):\n",
    "        Ji = Ji_t[:, frame_id - 1, :3]\n",
    "        Ji_T = Ji.transpose(1, 2)\n",
    "        F = ftip_force[:, 3 * fid: 3 * fid + 3]\n",
    "        torque += .5 * torch.matmul(Ji_T, F)\n",
    "    return torque"
   ]
  },
  {
   "cell_type": "code",
   "execution_count": 23,
   "id": "4ee06877-316f-4df0-91ee-bb70f842b97b",
   "metadata": {},
   "outputs": [],
   "source": [
    "def random_ftip_force():\n",
    "    ac = torch.rand(env.get_action_shape(), dtype=torch.float, device=env.device)\n",
    "    ac = ac.view(-1, 9, 1)\n",
    "    return compute_torque(ac)"
   ]
  },
  {
   "cell_type": "code",
   "execution_count": 14,
   "id": "28a60e28-88ae-416c-8c9c-38cf11d0fcc7",
   "metadata": {},
   "outputs": [
    {
     "data": {
      "text/plain": [
       "torch.Size([128, 9, 2])"
      ]
     },
     "execution_count": 14,
     "metadata": {},
     "output_type": "execute_result"
    }
   ],
   "source": [
    "env._dof_state.shape"
   ]
  },
  {
   "cell_type": "code",
   "execution_count": 17,
   "id": "79d2a98b-70b4-4f93-818c-5884859e6d83",
   "metadata": {},
   "outputs": [],
   "source": [
    "action = 2 * torch.rand(env.get_action_shape(), dtype=torch.float, device=env.device) - 1"
   ]
  },
  {
   "cell_type": "code",
   "execution_count": 18,
   "id": "f184fea6-0ded-4026-a928-589cb80eacc6",
   "metadata": {},
   "outputs": [],
   "source": [
    "_, _, _, _ = env.step(action)"
   ]
  },
  {
   "cell_type": "code",
   "execution_count": 20,
   "id": "ee81ee6d-806f-4b62-8ed5-5be68ffed813",
   "metadata": {},
   "outputs": [],
   "source": [
    "link_dict = env._gym.get_asset_rigid_body_dict(env._gym_assets['robot'])\n",
    "dof_dict = env._gym.get_asset_dof_dict(env._gym_assets['robot'])"
   ]
  },
  {
   "cell_type": "code",
   "execution_count": 25,
   "id": "90843356-1978-4ab9-85fd-ac4e8d7f5a63",
   "metadata": {},
   "outputs": [
    {
     "data": {
      "text/plain": [
       "True"
      ]
     },
     "execution_count": 25,
     "metadata": {},
     "output_type": "execute_result"
    }
   ],
   "source": [
    "env._gym.refresh_jacobian_tensors(env._sim)"
   ]
  },
  {
   "cell_type": "code",
   "execution_count": 29,
   "id": "d6b4db39-a5f4-4301-a109-10099218ca79",
   "metadata": {},
   "outputs": [
    {
     "data": {
      "text/plain": [
       "OrderedDict([('finger_tip_link_0', 6),\n",
       "             ('finger_tip_link_120', 11),\n",
       "             ('finger_tip_link_240', 16)])"
      ]
     },
     "execution_count": 29,
     "metadata": {},
     "output_type": "execute_result"
    }
   ],
   "source": [
    "env._fingertips_handles"
   ]
  },
  {
   "cell_type": "code",
   "execution_count": 24,
   "id": "1bab8764-9c7b-419c-9c1b-3eee4f51a4c8",
   "metadata": {},
   "outputs": [
    {
     "data": {
      "text/plain": [
       "{'base_link': 0,\n",
       " 'finger_base_link_0': 2,\n",
       " 'finger_base_link_120': 7,\n",
       " 'finger_base_link_240': 12,\n",
       " 'finger_lower_link_0': 5,\n",
       " 'finger_lower_link_120': 10,\n",
       " 'finger_lower_link_240': 15,\n",
       " 'finger_middle_link_0': 4,\n",
       " 'finger_middle_link_120': 9,\n",
       " 'finger_middle_link_240': 14,\n",
       " 'finger_tip_link_0': 6,\n",
       " 'finger_tip_link_120': 11,\n",
       " 'finger_tip_link_240': 16,\n",
       " 'finger_upper_link_0': 3,\n",
       " 'finger_upper_link_120': 8,\n",
       " 'finger_upper_link_240': 13,\n",
       " 'upper_holder_link': 1}"
      ]
     },
     "execution_count": 24,
     "metadata": {},
     "output_type": "execute_result"
    }
   ],
   "source": [
    "link_dict"
   ]
  }
 ],
 "metadata": {
  "kernelspec": {
   "display_name": "Python 3 (ipykernel)",
   "language": "python",
   "name": "python3"
  },
  "language_info": {
   "codemirror_mode": {
    "name": "ipython",
    "version": 3
   },
   "file_extension": ".py",
   "mimetype": "text/x-python",
   "name": "python",
   "nbconvert_exporter": "python",
   "pygments_lexer": "ipython3",
   "version": "3.8.10"
  },
  "toc": {
   "base_numbering": 1,
   "nav_menu": {},
   "number_sections": true,
   "sideBar": true,
   "skip_h1_title": false,
   "title_cell": "Table of Contents",
   "title_sidebar": "Contents",
   "toc_cell": false,
   "toc_position": {},
   "toc_section_display": true,
   "toc_window_display": false
  }
 },
 "nbformat": 4,
 "nbformat_minor": 5
}
